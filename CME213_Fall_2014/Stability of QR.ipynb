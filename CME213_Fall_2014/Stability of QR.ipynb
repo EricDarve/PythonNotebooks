{
 "metadata": {
  "name": ""
 },
 "nbformat": 3,
 "nbformat_minor": 0,
 "worksheets": [
  {
   "cells": [
    {
     "cell_type": "markdown",
     "metadata": {},
     "source": [
      "The stability of the QR factorization is a fascinating topic. It contains many non-obvious results.\n",
      "\n",
      "Assume that we have numerically computed a QR factorization and that the factors are $\\tilde{Q}$ and $\\tilde{R}$.\n",
      "\n",
      "The usual error analysis has three stages:\n",
      "\n",
      "1. Perform a backward error analysis\n",
      "2. Find the condition number of the problem\n",
      "3. Determine the forward error as: backward error x condition number\n",
      "\n",
      "In the backward error analysis, we try to find a perturbation on the input data such that the numerical solution is exact for this perturbed data.\n",
      "\n",
      "We can derive such a result for $\\tilde{R}$. We denote $\\tilde{A}_{k}$ the computed matrix $A$ at step $k$ of the QR algorithm. Construct the matrix $\\hat{Q} = (P_n P_{n-1} \\ldots P_1)^T$, where $P_k$ is the exact Householder transform for the $k$th step of the QR algorithm for $\\tilde{A}_k$. A key property of $\\hat{Q}$ is that by definition it is exactly orthogonal. However, $\\hat{Q} \\neq Q$, the exact factor in QR. The matrix $\\hat{Q}$ is just a mathematical object. It cannot be computed numerically since we are assuming it is exactly orthogonal.\n",
      "\n",
      "With this matrix $\\hat{Q}$, we can show that there exists a perturbation of $A$ such that:\n",
      "$$ A + \\Delta A = \\hat{Q} \\tilde{R} $$\n",
      "That is, for the perturbation $\\Delta A$, $\\|\\Delta A\\| \\in O(u)$, $\\tilde{R}$ is the exact $R$ factor in the QR factorization.\n",
      "\n",
      "The backward error analysis is more difficult to formulate for $\\tilde{Q}$. Indeed, since $\\tilde{Q}$ is not exactly orthogonal, it cannot be the exact Q factor for any QR factorization.\n",
      "\n",
      "However, we can show that $\\tilde{Q}$ is very close to $\\hat{Q}$ and\n",
      "$$\\| \\tilde{Q} - \\hat{Q} \\| \\in O(u)$$\n",
      "\n",
      "Nevertheless, as we have seen in other examples, the problem may be very sensitive to perturbations in $A$. For example, we get:\n",
      "$$ \\| \\hat{Q} - Q \\| \\in O(\\kappa(A) \\|\\Delta A\\| / \\|A\\|) $$\n",
      "\n",
      "The final estimates for $\\tilde{R}$ and $\\tilde{Q}$ show that\n",
      "$$\\| \\tilde{R} - R \\| / \\|R\\|$$\n",
      "and\n",
      "$$\\| \\tilde{Q} - Q \\|$$\n",
      "are bounded by\n",
      "$$ O(\\kappa(A) \\|\\Delta A\\| / \\|A\\|) $$\n",
      "\n",
      "So, when the condition number of $A$ is large, we typically have large errors in $\\tilde{Q}$ and $\\tilde{R}$, as indicated by the previous estimates. Nonetheless, the difference between $A$ and $\\tilde{Q} \\tilde{R}$ remains small, and we always have\n",
      "$$ \\| A - \\tilde{Q} \\tilde{R} (:,j) \\|_2 \\in O(\\| a_j \\|_2 u )$$\n",
      "where $a_j$ is the $j$th column of $A$.\n",
      "\n",
      "This is in stark contrast with the LU factorization with no pivoting. We saw that, for the latter, when one of the pivots is small, we can get very large entries in $\\tilde{L}$ and $\\tilde{U}$. In those cases, the relative error in the factors $L$ and $U$ may be small. However, the difference\n",
      "$$ A - \\tilde{L} \\tilde{U} $$\n",
      "is typically quite large.\n",
      "\n",
      "Let's give it a try with some numerical examples. We have to start with an ill-conditioned matrix."
     ]
    },
    {
     "cell_type": "code",
     "collapsed": false,
     "input": [
      "import numpy as np\n",
      "import scipy.linalg as la\n",
      "\n",
      "m = 100\n",
      "# Start from a random matrix to generate Q\n",
      "X = np.random.randn(m,m)\n",
      "# Use QR to get an orthogonal matrix\n",
      "Q, RX = np.linalg.qr(X) # This will be our factor Q\n",
      "\n",
      "# For R, use the upper triangular part of a random matrix\n",
      "R = np.triu(np.random.randn(m,m), k=0) # This will be our factor R\n",
      "\n",
      "# We make sure that we have ones on the diagonal\n",
      "sign_R = np.sign(np.diag(R)) # Extract sign\n",
      "R = np.dot(np.diag(sign_R), R) # Positive sign convention\n",
      "\n",
      "A = np.dot(Q,R) # We define A as QR"
     ],
     "language": "python",
     "metadata": {},
     "outputs": [],
     "prompt_number": 1
    },
    {
     "cell_type": "markdown",
     "metadata": {},
     "source": [
      "The matrix $A$ should be singular. Let's calculate its singular values and check the smallest ones."
     ]
    },
    {
     "cell_type": "code",
     "collapsed": false,
     "input": [
      "# Let's check the condition number with the singular values\n",
      "U, s, V = np.linalg.svd(A)\n",
      "print('Max/min singular values of A')\n",
      "np.set_printoptions(precision=3)\n",
      "print(s[0:2],s[-2:])"
     ],
     "language": "python",
     "metadata": {},
     "outputs": [
      {
       "output_type": "stream",
       "stream": "stdout",
       "text": [
        "Max/min singular values of A\n",
        "(array([ 15.587,  15.362]), array([  3.465e-15,   7.760e-16]))\n"
       ]
      }
     ],
     "prompt_number": 2
    },
    {
     "cell_type": "markdown",
     "metadata": {},
     "source": [
      "Let's plot the singular values on a semilogy scale."
     ]
    },
    {
     "cell_type": "code",
     "collapsed": false,
     "input": [
      "%pylab inline"
     ],
     "language": "python",
     "metadata": {},
     "outputs": [
      {
       "output_type": "stream",
       "stream": "stdout",
       "text": [
        "Populating the interactive namespace from numpy and matplotlib\n"
       ]
      }
     ],
     "prompt_number": 3
    },
    {
     "cell_type": "code",
     "collapsed": false,
     "input": [
      "import matplotlib.pyplot as pl\n",
      "pl.semilogy(range(m), s)"
     ],
     "language": "python",
     "metadata": {},
     "outputs": [
      {
       "metadata": {},
       "output_type": "pyout",
       "prompt_number": 4,
       "text": [
        "[<matplotlib.lines.Line2D at 0x106585f90>]"
       ]
      },
      {
       "metadata": {},
       "output_type": "display_data",
       "png": "[encoded data removed]",
       "text": [
        "<matplotlib.figure.Figure at 0x106570790>"
       ]
      }
     ],
     "prompt_number": 4
    },
    {
     "cell_type": "markdown",
     "metadata": {},
     "source": [
      "Matrix $A$ is very ill-conditioned. This is a result of using a random upper triangular matrix, which is typically very ill-conditioned.\n",
      "\n",
      "Let's calculate again the QR factorization of $A$. We expect it to be close to $QR$ since this is the definition of $A$ that we used!"
     ]
    },
    {
     "cell_type": "code",
     "collapsed": false,
     "input": [
      "Q0, R0 = np.linalg.qr(A)"
     ],
     "language": "python",
     "metadata": {},
     "outputs": [],
     "prompt_number": 5
    },
    {
     "cell_type": "markdown",
     "metadata": {},
     "source": [
      "We know that $A \\approx QR$ by definition. However, we are going to see that $Q_0$ and $R_0$ deviate significantly from $Q$ and $R$. Note that $Q$ is not exactly orthogonal because of roundoff errors and also $A$ is in fact different from the exact product $QR$, if the latter had been computed in \"exact\" arithmetic. Therefore, roundoff errors are affecting the result in different places.\n",
      "\n",
      "First, we check that $Q_0R_0$ is very close to $A$ as we expect:"
     ]
    },
    {
     "cell_type": "code",
     "collapsed": false,
     "input": [
      "print('Error A - Q0 R0 = ')\n",
      "print(la.norm( A - np.dot(Q0,R0) ))"
     ],
     "language": "python",
     "metadata": {},
     "outputs": [
      {
       "output_type": "stream",
       "stream": "stdout",
       "text": [
        "Error A - Q0 R0 = \n",
        "5.29290279441e-14\n"
       ]
      }
     ],
     "prompt_number": 6
    },
    {
     "cell_type": "markdown",
     "metadata": {},
     "source": [
      "But, the new factors do not agree at all with the previous ones:"
     ]
    },
    {
     "cell_type": "code",
     "collapsed": false,
     "input": [
      "print('Q0 - Q')\n",
      "print(la.norm(Q0 - Q))\n",
      "print('R0 - R')\n",
      "print(la.norm(R0 - R)/la.norm(R))"
     ],
     "language": "python",
     "metadata": {},
     "outputs": [
      {
       "output_type": "stream",
       "stream": "stdout",
       "text": [
        "Q0 - Q\n",
        "7.54973608957\n",
        "R0 - R\n",
        "0.471052657725\n"
       ]
      }
     ],
     "prompt_number": 7
    },
    {
     "cell_type": "markdown",
     "metadata": {},
     "source": [
      "Let's print the first 2 and last 2 diagonal entries to check:"
     ]
    },
    {
     "cell_type": "code",
     "collapsed": false,
     "input": [
      "pl.plot(range(m), np.diag(R), range(m), np.diag(R0))"
     ],
     "language": "python",
     "metadata": {},
     "outputs": [
      {
       "metadata": {},
       "output_type": "pyout",
       "prompt_number": 8,
       "text": [
        "[<matplotlib.lines.Line2D at 0x1068693d0>,\n",
        " <matplotlib.lines.Line2D at 0x106869650>]"
       ]
      },
      {
       "metadata": {},
       "output_type": "display_data",
       "png": "[encoded data removed]",
       "text": [
        "<matplotlib.figure.Figure at 0x106570610>"
       ]
      }
     ],
     "prompt_number": 8
    },
    {
     "cell_type": "markdown",
     "metadata": {},
     "source": [
      "The last entries in the factors $R$ are very different.\n",
      "\n",
      "How can we explain that we have two very different QR decompositions but they are both seemingly correct?\n",
      "\n",
      "You may remember that when a matrix $A$ is rank deficient, the QR decomposition is not unique. We have a similar phenomenon here. The situation is bit more complicated because mathematically $A$ is full rank. However, $A$ is close to a singular matrix, and therefore, numerically, we run into troubles.\n",
      "\n",
      "Let's investigate this in more details. Let's start from our initial QR factors and see if we can create new factors. \n",
      "\n",
      "First, we focus on creating perturbations to $Q$, and then, we will focus on $R$. The basic idea is to introduce a new orthogonal matrix $Q_n$ such that $(QQ_n) (Q_n^TR)$ is a valid QR decomposition of $A$. This new decomposition, to be correct, should satisfy two properties:\n",
      "\n",
      "1. $(QQ_n) (Q_n^TR) \\approx A$\n",
      "2. $Q_n^TR$ should be upper triangular.\n",
      "\n",
      "The second condition seems to be the most difficult to satisfy.\n",
      "\n",
      "Let's consider the following. Start from $QR$ and perform an SVD decomposition of $R$. The idea is that since $A$ is nearly singular, the SVD of $R$ should have small singular values."
     ]
    },
    {
     "cell_type": "code",
     "collapsed": false,
     "input": [
      "U, s, V = np.linalg.svd(R)\n",
      "print(s[0:2],s[-2:])"
     ],
     "language": "python",
     "metadata": {},
     "outputs": [
      {
       "output_type": "stream",
       "stream": "stdout",
       "text": [
        "(array([ 15.587,  15.362]), array([  3.465e-15,   7.775e-16]))\n"
       ]
      }
     ],
     "prompt_number": 9
    },
    {
     "cell_type": "markdown",
     "metadata": {},
     "source": [
      "If you scroll back up, you see that these are the same singular values as $A$. Since $A$ and $R$ are related through $A = QR$, this is not surprising.\n",
      "\n",
      "Since the last two singular values of $R$ are very small, you can convince yourself that if we switch the last two columns of $U$, we are leaving $R$ essentially unchanged. Indeed, let's try it:"
     ]
    },
    {
     "cell_type": "code",
     "collapsed": false,
     "input": [
      "Un = U.copy() # Copy U to a separate matrix\n",
      "Un[:,[-2,-1]] = Un[:,[-1,-2]] # Switch the last two columns\n",
      "Rn = np.dot(Un, np.dot(np.diag(s), V)) # Calculate the new matrix R after switching"
     ],
     "language": "python",
     "metadata": {},
     "outputs": [],
     "prompt_number": 10
    },
    {
     "cell_type": "markdown",
     "metadata": {},
     "source": [
      "Because the last two singular values of $R$ are very small, this change has barely affected $R$:"
     ]
    },
    {
     "cell_type": "code",
     "collapsed": false,
     "input": [
      "print(la.norm(Rn-R))"
     ],
     "language": "python",
     "metadata": {},
     "outputs": [
      {
       "output_type": "stream",
       "stream": "stdout",
       "text": [
        "1.53284528688e-13\n"
       ]
      }
     ],
     "prompt_number": 11
    },
    {
     "cell_type": "markdown",
     "metadata": {},
     "source": [
      "The new matrix $U_n$ is orthogonal by construction. There is a simple relation between $R_n$ and $R$:\n",
      "$$R_n = U_n \\Sigma V^T = U_n U^T U \\Sigma V^T = U_n U^T R$$\n",
      "\n",
      "The matrix $U_n U^T$ is leaving $R$ essentially unchanged. However, this matrix is far from the identity. Let's compute it and print some of the last entries."
     ]
    },
    {
     "cell_type": "code",
     "collapsed": false,
     "input": [
      "Qn = np.dot(U, Un.T)\n",
      "print(Qn[-4:,-4:])"
     ],
     "language": "python",
     "metadata": {},
     "outputs": [
      {
       "output_type": "stream",
       "stream": "stdout",
       "text": [
        "[[ 0.619 -0.183 -0.407  0.457]\n",
        " [-0.183  0.912 -0.196  0.22 ]\n",
        " [-0.407 -0.196  0.565  0.489]\n",
        " [ 0.457  0.22   0.489  0.45 ]]\n"
       ]
      }
     ],
     "prompt_number": 12
    },
    {
     "cell_type": "markdown",
     "metadata": {},
     "source": [
      "That's not the identity matrix!\n",
      "\n",
      "Define now the new matrix $Q_1 = QQ_n$ and $R_1 = Q_n^T R$. We can check that $Q_1$ is very different from $Q$."
     ]
    },
    {
     "cell_type": "code",
     "collapsed": false,
     "input": [
      "Q1 = np.dot(Q,Qn)\n",
      "R1 = np.dot(Qn.T,R)\n",
      "R1 = np.triu(R1,0) # Make sure R1 is exactly upper triangular"
     ],
     "language": "python",
     "metadata": {},
     "outputs": [],
     "prompt_number": 13
    },
    {
     "cell_type": "markdown",
     "metadata": {},
     "source": [
      "The matrix $Q_1$ is substantially different:"
     ]
    },
    {
     "cell_type": "code",
     "collapsed": false,
     "input": [
      "print(la.norm(Q1-Q))"
     ],
     "language": "python",
     "metadata": {},
     "outputs": [
      {
       "output_type": "stream",
       "stream": "stdout",
       "text": [
        "2.0\n"
       ]
      }
     ],
     "prompt_number": 14
    },
    {
     "cell_type": "markdown",
     "metadata": {},
     "source": [
      "However, $R_1$ is the same:"
     ]
    },
    {
     "cell_type": "code",
     "collapsed": false,
     "input": [
      "print(la.norm(R1-R))"
     ],
     "language": "python",
     "metadata": {},
     "outputs": [
      {
       "output_type": "stream",
       "stream": "stdout",
       "text": [
        "1.16697370934e-13\n"
       ]
      }
     ],
     "prompt_number": 15
    },
    {
     "cell_type": "markdown",
     "metadata": {},
     "source": [
      "Despite these changes, by construction, the product $QR$ is still very nearly equal to $A$."
     ]
    },
    {
     "cell_type": "code",
     "collapsed": false,
     "input": [
      "print(la.norm(A - np.dot(Q1,R1)))"
     ],
     "language": "python",
     "metadata": {},
     "outputs": [
      {
       "output_type": "stream",
       "stream": "stdout",
       "text": [
        "2.43236887601e-13\n"
       ]
      }
     ],
     "prompt_number": 16
    },
    {
     "cell_type": "markdown",
     "metadata": {},
     "source": [
      "A somewhat similar method can be used to change $R$ without affecting $QR$. The process is a little bit more complicated.\n",
      "\n",
      "Recall that we previously computed the SVD of $R$.\n",
      "\n",
      "By construction, the last two columns of $U$ are in the null space of $R^T$.\n",
      "\n",
      "If we multiply $R$ to the left by the last two columns of $U$, we create two zero rows.\n",
      "\n",
      "This gives us an idea. We can construct a full square orthogonal matrix by starting with the last two columns of $U$, and adding more columns to form a full orthogonal matrix. If we multiply $R$ to the left by the transpose of this orthogonal matrix, we will create two zero rows in $R$. After that, we can perform a QR factorization on the first $m-2$ rows. The result is a new upper triangular matrix $R$, obtained by applying two orthogonal transformations, and that has its last two rows equal to 0. We have found a new QR decomposition of $A$!\n",
      "\n",
      "Let's do this step-by-step.\n",
      "\n",
      "Let's first create an orthogonal matrix using the last two columns of $U$."
     ]
    },
    {
     "cell_type": "code",
     "collapsed": true,
     "input": [
      "X = np.random.randn(m,m) # Random matrix\n",
      "X[:,0:2] = U[:,-2:] # Copy the last two columns of U to columns 0 and 1 in X.\n",
      "\n",
      "X, RX = np.linalg.qr(X)\n",
      "# By calling QR, we are leaving the first two columns of X unchanged,\n",
      "# but making all other columns orthogonal to the first 2.\n",
      "\n",
      "# We want the first two columns to be placed at the end.\n",
      "X = X[:,::-1] # Reverse the order of the columns"
     ],
     "language": "python",
     "metadata": {},
     "outputs": [],
     "prompt_number": 17
    },
    {
     "cell_type": "markdown",
     "metadata": {},
     "source": [
      "Now, we are ready to multiply $R$ by $X^T$ to the left. This will create two zero rows at the bottom.\n",
      "$$R_2 = X^T R$$"
     ]
    },
    {
     "cell_type": "code",
     "collapsed": false,
     "input": [
      "R2 = np.dot(X.T, R) # This will be our new R1 matrix (after one more transformation)\n",
      "\n",
      "last_two_rows = R2[-2:,:]\n",
      "print( la.norm(last_two_rows) ) # Last two rows should be 0"
     ],
     "language": "python",
     "metadata": {},
     "outputs": [
      {
       "output_type": "stream",
       "stream": "stdout",
       "text": [
        "2.46297065039e-14\n"
       ]
      }
     ],
     "prompt_number": 18
    },
    {
     "cell_type": "markdown",
     "metadata": {},
     "source": [
      "The matrix $R_2$ is not upper triangular anymore. We use QR to make it upper triangular again. The key point is that this will not affect the last two rows, that must remain 0 after this process."
     ]
    },
    {
     "cell_type": "code",
     "collapsed": false,
     "input": [
      "# QR of R1\n",
      "Q2, R2 = np.linalg.qr(R2[:-2,:]) # We will need Q2 below\n",
      "R1 = np.zeros( (m,m) )\n",
      "R1[:-2,:] = R2 # This is our final R1 matrix\n",
      "\n",
      "# We need to make sure the diagonal entries are positive\n",
      "sign_R = np.sign(np.diag(R1))\n",
      "R1 = np.dot(np.diag(sign_R), R1)"
     ],
     "language": "python",
     "metadata": {},
     "outputs": [],
     "prompt_number": 19
    },
    {
     "cell_type": "markdown",
     "metadata": {},
     "source": [
      "Let's use the spy function in Python to check that $R_1$ is upper triangular."
     ]
    },
    {
     "cell_type": "code",
     "collapsed": false,
     "input": [
      "pl.spy(R1,precision=1e-8)"
     ],
     "language": "python",
     "metadata": {},
     "outputs": [
      {
       "metadata": {},
       "output_type": "pyout",
       "prompt_number": 20,
       "text": [
        "<matplotlib.image.AxesImage at 0x106810910>"
       ]
      },
      {
       "metadata": {},
       "output_type": "display_data",
       "png": "[encoded data removed]",
       "text": [
        "<matplotlib.figure.Figure at 0x106871810>"
       ]
      }
     ],
     "prompt_number": 20
    },
    {
     "cell_type": "markdown",
     "metadata": {},
     "source": [
      "Can you see that the last two rows are 0? Not convinced?"
     ]
    },
    {
     "cell_type": "code",
     "collapsed": false,
     "input": [
      "print(R1[-2:,-2:])"
     ],
     "language": "python",
     "metadata": {},
     "outputs": [
      {
       "output_type": "stream",
       "stream": "stdout",
       "text": [
        "[[ 0.  0.]\n",
        " [ 0.  0.]]\n"
       ]
      }
     ],
     "prompt_number": 21
    },
    {
     "cell_type": "markdown",
     "metadata": {},
     "source": [
      "We have obtained our final $R_1$ matrix. It must differ from $R$ since we made the last two rows equal to 0. We compute the associated $Q_1$ matrix to get the new QR decomposition of $A$.\n",
      "$$Q_1 = Q X Q_2$$"
     ]
    },
    {
     "cell_type": "code",
     "collapsed": false,
     "input": [
      "# Get corresponding Q factor\n",
      "Y = X.copy() # Use variable Y for clarity\n",
      "Y[:,:-2] = np.dot(X[:,:-2], Q2) # Multiply X by Q2\n",
      "Q1 = np.dot(Q, Y) # This is: Q X Q2\n",
      "Q1 = np.dot(Q1, np.diag(sign_R)) # Apply the sign change that we used for R1"
     ],
     "language": "python",
     "metadata": {},
     "outputs": [],
     "prompt_number": 22
    },
    {
     "cell_type": "markdown",
     "metadata": {},
     "source": [
      "Let's check that $Q_1R_1 \\approx A$:"
     ]
    },
    {
     "cell_type": "code",
     "collapsed": false,
     "input": [
      "print(la.norm(A - np.dot(Q1, R1)))"
     ],
     "language": "python",
     "metadata": {},
     "outputs": [
      {
       "output_type": "stream",
       "stream": "stdout",
       "text": [
        "9.39407237438e-14\n"
       ]
      }
     ],
     "prompt_number": 23
    },
    {
     "cell_type": "markdown",
     "metadata": {},
     "source": [
      "Moreover, the factors are truly different."
     ]
    },
    {
     "cell_type": "code",
     "collapsed": false,
     "input": [
      "print(la.norm(Q1 - Q))\n",
      "print(la.norm(R1 - R))"
     ],
     "language": "python",
     "metadata": {},
     "outputs": [
      {
       "output_type": "stream",
       "stream": "stdout",
       "text": [
        "5.59598480442\n",
        "24.4481656997\n"
       ]
      }
     ],
     "prompt_number": 24
    },
    {
     "cell_type": "markdown",
     "metadata": {},
     "source": [
      "Let's plot the diagonal of $R$ and $R_1$."
     ]
    },
    {
     "cell_type": "code",
     "collapsed": false,
     "input": [
      "pl.plot(range(m), np.diag(R), range(m), np.diag(R1))"
     ],
     "language": "python",
     "metadata": {},
     "outputs": [
      {
       "metadata": {},
       "output_type": "pyout",
       "prompt_number": 25,
       "text": [
        "[<matplotlib.lines.Line2D at 0x106d5e790>,\n",
        " <matplotlib.lines.Line2D at 0x106d5ea10>]"
       ]
      },
      {
       "metadata": {},
       "output_type": "display_data",
       "png": "[encoded data removed]",
       "text": [
        "<matplotlib.figure.Figure at 0x106877a50>"
       ]
      }
     ],
     "prompt_number": 25
    },
    {
     "cell_type": "markdown",
     "metadata": {},
     "source": [
      "We can also plot the diagonal of $Q_1^T Q$ to check that $Q_1$ is different from $Q$."
     ]
    },
    {
     "cell_type": "code",
     "collapsed": false,
     "input": [
      "Q1TQ = np.dot(Q1.T, Q)\n",
      "pl.plot(np.diag(Q1TQ))"
     ],
     "language": "python",
     "metadata": {},
     "outputs": [
      {
       "metadata": {},
       "output_type": "pyout",
       "prompt_number": 26,
       "text": [
        "[<matplotlib.lines.Line2D at 0x106d87990>]"
       ]
      },
      {
       "metadata": {},
       "output_type": "display_data",
       "png": "[encoded data removed]",
       "text": [
        "<matplotlib.figure.Figure at 0x106d6dc90>"
       ]
      }
     ],
     "prompt_number": 26
    },
    {
     "cell_type": "markdown",
     "metadata": {},
     "source": [
      "The first few columns of $Q_1$ are close to $Q$ but after that they diverge significantly.\n",
      "\n",
      "Other matrix $R$ can be constructed with this approach. Can you figure out how this can be done?"
     ]
    }
   ],
   "metadata": {}
  }
 ]
}